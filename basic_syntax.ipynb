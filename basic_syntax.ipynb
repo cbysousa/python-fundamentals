{
  "nbformat": 4,
  "nbformat_minor": 0,
  "metadata": {
    "colab": {
      "provenance": [],
      "authorship_tag": "ABX9TyNYyuDcgxk7FH4iJzmRfkGH",
      "include_colab_link": true
    },
    "kernelspec": {
      "name": "python3",
      "display_name": "Python 3"
    },
    "language_info": {
      "name": "python"
    }
  },
  "cells": [
    {
      "cell_type": "markdown",
      "metadata": {
        "id": "view-in-github",
        "colab_type": "text"
      },
      "source": [
        "<a href=\"https://colab.research.google.com/github/cbysousa/python-fundamentals/blob/main/basic_syntax.ipynb\" target=\"_parent\"><img src=\"https://colab.research.google.com/assets/colab-badge.svg\" alt=\"Open In Colab\"/></a>"
      ]
    },
    {
      "cell_type": "markdown",
      "source": [
        "###Variáveis e Tipos de Dados\n",
        "\n",
        "- Crie variáveis para armazenar seu nome, idade, altura e se você é estudante. Imprima essas informações de forma organizada usando `print()`.\n",
        "- Crie uma variável com um número inteiro, outra com um número decimal e outra com uma string. Use `type()` para verificar o tipo de cada variável.\n",
        "- Converta a variável inteira para decimal e vice-versa.\n",
        "- Crie uma lista com seus 3 filmes favoritos. Acessa e imprima o segundo filme da lista."
      ],
      "metadata": {
        "id": "49fcfLE7VjvI"
      }
    },
    {
      "cell_type": "code",
      "execution_count": null,
      "metadata": {
        "id": "71imh_qrVVb3"
      },
      "outputs": [],
      "source": [
        "nome = \"cibelly\"\n",
        "idade = 18\n",
        "altura = 1.65\n",
        "\n",
        "print(nome)\n",
        "print(idade)\n",
        "print(altura)"
      ]
    },
    {
      "cell_type": "code",
      "source": [
        "inteiro = 100\n",
        "decimal = 10.0\n",
        "texto = \"Olá, mundo!\"\n",
        "\n",
        "print(type(inteiro))\n",
        "print(type(decimal))\n",
        "print(type(texto))\n",
        "\n",
        "print(float(inteiro))\n",
        "print(int(decimal))"
      ],
      "metadata": {
        "id": "kvF6iwWFX2-c"
      },
      "execution_count": null,
      "outputs": []
    },
    {
      "cell_type": "code",
      "source": [
        "filmes = [\"oppenheimer\", \"the social network\", \"inception\"]\n",
        "print(filmes[1])"
      ],
      "metadata": {
        "id": "lm4aK1cfZXKA"
      },
      "execution_count": null,
      "outputs": []
    },
    {
      "cell_type": "markdown",
      "source": [
        "###Operadores\n",
        "- Crie duas variáveis com valores numéricos. Realize as operações de soma, subtração, multiplicação, divisão e módulo entre elas.\n",
        "- Use operadores de comparação para verificar se as duas variáveis são iguais, diferentes, maior ou menor que a outra.\n",
        "- Crie uma variável booleana e use operadores lógicos (`and`, `or`, `not`) para construir diferentes condições."
      ],
      "metadata": {
        "id": "WRGLcb3Qbp0K"
      }
    },
    {
      "cell_type": "code",
      "source": [
        "a = 1\n",
        "b = 2\n",
        "\n",
        "#Operações aritméticas\n",
        "print(\"Soma =\", a + b)\n",
        "print(\"Subtração =\", a - b)\n",
        "print(\"Multiplicação =\", a * b)\n",
        "print(\"Divisão =\", a / b)\n",
        "print(\"Módulo =\", a % b)\n",
        "\n",
        "#Comparações\n",
        "if a == b:\n",
        "    print(\"a é igual a b\")\n",
        "else:\n",
        "  print(\"a é diferente de b\")\n",
        "if a > b:\n",
        "  print(\"a é maior que b\")\n",
        "else:\n",
        "  print(\"a é menor que b\")"
      ],
      "metadata": {
        "id": "QzdEH1CJcUsF"
      },
      "execution_count": null,
      "outputs": []
    },
    {
      "cell_type": "code",
      "source": [
        "pedro = 25\n",
        "paulo = 13\n",
        "maioridade = 18\n",
        "\n",
        "if pedro >= maioridade or paulo >= maioridade:\n",
        "  print(\"Um dos dois é maior de idade\")\n",
        "else:\n",
        "  print(\"Nenhum dos dois é maior de idade\")\n",
        "\n",
        "if pedro >= maioridade and paulo >= maioridade:\n",
        "  print(\"Os dois são maior de idade\")\n",
        "else:\n",
        "  print(\"Nem todos são maior de idade\")\n",
        "\n",
        "if not pedro <= maioridade:\n",
        "  print(\"Pedro é maior de idade\")\n",
        "if not paulo >= maioridade:\n",
        "  print(\"Paulo é menor de idade\")"
      ],
      "metadata": {
        "id": "eP7PuG6Xgf5x"
      },
      "execution_count": null,
      "outputs": []
    },
    {
      "cell_type": "markdown",
      "source": [
        "###Strings\n",
        "- Crie uma string com a frase \"Python é uma linguagem poderosa\".\n",
        "- Acesse e imprima o quinto caractere da string.\n",
        "- Converta a string para letras maiúsculas e letras minúsculas.\n",
        "- Conte quantas vezes a letra \"a\" aparece na string.\n",
        "- Verifique se a palavra \"linguagem\" está presente na string."
      ],
      "metadata": {
        "id": "rLmh5G-8ks1G"
      }
    },
    {
      "cell_type": "code",
      "source": [
        "frase = \"Python é uma linguagem poderosa\"\n",
        "\n",
        "print(frase[4])\n",
        "print(frase.upper())\n",
        "print(frase.lower())\n",
        "print(frase.count(\"a\"))\n",
        "\n",
        "print(\"linguagem\" in frase)\n",
        "#or\n",
        "if \"linguagem\" in frase:\n",
        "  print('A palavra \"linguagem\" está presente na string')"
      ],
      "metadata": {
        "id": "wFisDeVIlQRl"
      },
      "execution_count": null,
      "outputs": []
    },
    {
      "cell_type": "markdown",
      "source": [
        "###Condicionais:\n",
        "\n",
        "- Peça ao usuário para digitar um número. Verifique se o número é par ou ímpar e imprima uma mensagem correspondente.\n",
        "\n",
        "- Peça ao usuário para digitar sua idade. Verifique se ele é maior de idade (18 anos) e imprima uma mensagem correspondente.\n",
        "\n",
        "- Crie um programa que simule um sistema de login. Peça ao usuário para digitar um nome de usuário e senha. Se as informações estiverem corretas, imprima uma mensagem de boas-vindas. Caso contrário, imprima uma mensagem de erro."
      ],
      "metadata": {
        "id": "6wMufwKcnkDQ"
      }
    },
    {
      "cell_type": "code",
      "source": [
        "num = float(input(\"Digite um número: \"))\n",
        "\n",
        "if num % 2 == 0:\n",
        "  print(num, \"é um número par\")\n",
        "else:\n",
        "  print(num, \"é um número ímpar\")"
      ],
      "metadata": {
        "id": "zAjSLWO8nrv7"
      },
      "execution_count": null,
      "outputs": []
    },
    {
      "cell_type": "code",
      "source": [
        "age = int(input(\"Digite sua idade: \"))\n",
        "\n",
        "if age >= 18:\n",
        "  print(\"Você é maior de idade\")\n",
        "else:\n",
        "  print(\"Você é menor de idade\")"
      ],
      "metadata": {
        "id": "m3JB8GeHik8U"
      },
      "execution_count": null,
      "outputs": []
    },
    {
      "cell_type": "code",
      "source": [
        "usuario = \"cibelly\"\n",
        "senha = \"qwe123\"\n",
        "\n",
        "login_u = input(\"Digite seu usuário: \")\n",
        "login_s = input(\"Digite sua senha: \")\n",
        "\n",
        "if login_u == usuario and login_s == senha:\n",
        "  print(\"Login efetuado com sucesso!\")\n",
        "else:\n",
        "  print(\"Usuário ou senha incorreto(s)\")"
      ],
      "metadata": {
        "id": "kUxa3ywrjlmG"
      },
      "execution_count": null,
      "outputs": []
    },
    {
      "cell_type": "markdown",
      "source": [
        "###Loops\n",
        "\n",
        "- Imprima todos os números pares de 0 a 20 usando um loop for.\n",
        "\n",
        "- Peça ao usuário para digitar 5 números e armazene-os em uma lista. Calcule a soma de todos os números usando um loop for.\n",
        "\n",
        "- Crie um programa que peça ao usuário para adivinhar um número secreto entre 1 e 10. Use um loop while para permitir que o usuário continue tentando até acertar o número."
      ],
      "metadata": {
        "id": "Btz_32culVH2"
      }
    },
    {
      "cell_type": "code",
      "source": [
        "for x in range(0, 21):\n",
        "  if x % 2 == 0:\n",
        "    print(x)"
      ],
      "metadata": {
        "id": "jDLYGBFIl6As"
      },
      "execution_count": null,
      "outputs": []
    },
    {
      "cell_type": "code",
      "source": [
        "lista = []\n",
        "\n",
        "I = int(input(\"Digite o primeiro número: \"))\n",
        "II = int(input(\"Digite o segundo número: \"))\n",
        "III = int(input(\"Digite o terceiro número: \"))\n",
        "IV = int(input(\"Digite o quarto número: \"))\n",
        "V = int(input(\"Digite o quinto número: \"))\n",
        "\n",
        "lista.extend([I, II, III, IV, V])\n",
        "\n",
        "soma = 0\n",
        "\n",
        "for item in lista:\n",
        "  soma += item\n",
        "\n",
        "print(f\"A soma de todos os números da lista é: {soma}\")"
      ],
      "metadata": {
        "id": "Mu9JKuJHnqwr"
      },
      "execution_count": null,
      "outputs": []
    },
    {
      "cell_type": "code",
      "source": [
        "import random\n",
        "\n",
        "numero_secreto = random.randint(0,10)\n",
        "\n",
        "print(\"Bem-vindo ao jogo de advinhação\")\n",
        "tentativa = int(input(\"Digite um número inteiro: \"))\n",
        "\n",
        "while tentativa != numero_secreto:\n",
        "  tentativa = int(input(\"Número errado, tente de novo! \"))\n",
        "\n",
        "print(\"Você acertou o número!\")"
      ],
      "metadata": {
        "id": "uihsY7Wr9F73"
      },
      "execution_count": null,
      "outputs": []
    },
    {
      "cell_type": "markdown",
      "source": [
        "###Funções\n",
        "\n",
        "- Crie uma função que receba dois números como argumentos e retorne a soma deles.\n",
        "\n",
        "- Crie uma função que receba uma lista como argumento e retorne o maior valor da lista.\n",
        "\n",
        "- Crie uma função que calcule o fatorial de um número."
      ],
      "metadata": {
        "id": "i3MGUH_p-0Lz"
      }
    },
    {
      "cell_type": "code",
      "source": [
        "n1 = 2\n",
        "n2 = 3\n",
        "\n",
        "def soma (n1, n2):\n",
        "  return n1 + n2\n",
        "\n",
        "resultado = soma(n1, n2)\n",
        "\n",
        "print(f\"A soma de {n1} + {n2} é {resultado}\")"
      ],
      "metadata": {
        "id": "n4yoFtrh_lNR"
      },
      "execution_count": null,
      "outputs": []
    },
    {
      "cell_type": "code",
      "source": [
        "lista = [2, 3, 4, 6, 8]\n",
        "\n",
        "def maior():\n",
        "  return max(lista)\n",
        "\n",
        "print(f\"O maior valor da lista é {maior()}\")"
      ],
      "metadata": {
        "id": "xUOKhOgmLK0d"
      },
      "execution_count": null,
      "outputs": []
    },
    {
      "cell_type": "code",
      "source": [
        "from math import factorial\n",
        "\n",
        "n = int(input(\"Digite um número inteiro: \"))\n",
        "\n",
        "def fatorial(n):\n",
        "  return factorial(n)\n",
        "\n",
        "print(f\"O fatorial de {n} é {fatorial(n)}\")"
      ],
      "metadata": {
        "id": "3cIIL_B7MYUg"
      },
      "execution_count": null,
      "outputs": []
    },
    {
      "cell_type": "markdown",
      "source": [
        "###Dicionários\n",
        "\n",
        "- Crie um dicionário com informações sobre você (nome, idade, cidade, etc.).\n",
        "\n",
        "- Acesse e imprima sua idade a partir do dicionário.\n",
        "\n",
        "- Adicione uma nova chave ao dicionário com sua comida favorita.\n",
        "\n",
        "- Percorra o dicionário imprimindo todas as chaves e seus respectivos valores."
      ],
      "metadata": {
        "id": "sM5-ieWM_Xjn"
      }
    },
    {
      "cell_type": "code",
      "source": [
        "aboutme = {\n",
        "    \"nome\": \"cibelly\",\n",
        "    \"idade\": \"18\",\n",
        "    \"cidade\": \"fortaleza\"\n",
        "}\n",
        "\n",
        "print(aboutme.get(\"idade\"))\n",
        "\n",
        "aboutme['comida favorita'] = \"frango frito\"\n",
        "\n",
        "print(aboutme)"
      ],
      "metadata": {
        "id": "ucNRUY26_ig8"
      },
      "execution_count": null,
      "outputs": []
    },
    {
      "cell_type": "code",
      "source": [
        "#Imprimindo as chaves individualmente\n",
        "aboutme = {\n",
        "    \"nome\": \"cibelly\",\n",
        "    \"idade\": \"18\",\n",
        "    \"cidade\": \"fortaleza\"\n",
        "}\n",
        "\n",
        "for chave, valor in aboutme.items():\n",
        "  print(f\"{chave}: {valor}\")"
      ],
      "metadata": {
        "id": "bHySnR8rEzrp"
      },
      "execution_count": null,
      "outputs": []
    },
    {
      "cell_type": "markdown",
      "source": [
        "###Arquivos\n",
        "\n",
        "- Crie um arquivo de texto chamado \"meu_arquivo.txt\" e escreva algumas frases nele.\n",
        "\n",
        "- Abra o arquivo \"meu_arquivo.txt\" e leia seu conteúdo.\n",
        "\n",
        "- Adicione novas frases ao final do arquivo \"meu_arquivo.txt\"."
      ],
      "metadata": {
        "id": "P3_lXECz_l43"
      }
    },
    {
      "cell_type": "code",
      "source": [
        "with open(\"meu_arquivo.txt\", \"w\") as arquivo:\n",
        "  arquivo.write(\"I never thought that I coul walk through fire\\n\")\n",
        "  arquivo.write(\"I never thought that I cold take the burn\\n\")\n",
        "\n",
        "with open(\"meu_arquivo.txt\", \"r\") as arquivo:\n",
        "  conteudo = arquivo.read()\n",
        "  print(conteudo)\n",
        "\n",
        "with open (\"meu_arquivo.txt\", \"w\") as arquivo:\n",
        "  arquivo.write(\"I never had the strenght to take it higher\\n\")\n",
        "  arquivo.write(\"Until I reached the point of no return\\n\")\n",
        "\n",
        "with open(\"meu_arquivo.txt\", \"r\") as arquivo:\n",
        "  conteudo = arquivo.read()\n",
        "  print(conteudo)"
      ],
      "metadata": {
        "id": "mldd5Fji_8rr"
      },
      "execution_count": null,
      "outputs": []
    }
  ]
}